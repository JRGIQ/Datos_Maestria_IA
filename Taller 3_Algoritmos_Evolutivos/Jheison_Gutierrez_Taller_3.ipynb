{
  "nbformat": 4,
  "nbformat_minor": 0,
  "metadata": {
    "colab": {
      "provenance": []
    },
    "kernelspec": {
      "name": "python3",
      "display_name": "Python 3"
    },
    "language_info": {
      "name": "python"
    }
  },
  "cells": [
    {
      "cell_type": "markdown",
      "source": [
        "Jheison René Gutiérrez Gómez\n",
        "\n",
        "jheison.gutierrez01@usa.edu.co\n",
        "\n",
        "Maestría en inteligencia artificial\n",
        "\n"
      ],
      "metadata": {
        "id": "wtTFnSB6i2K_"
      }
    },
    {
      "cell_type": "markdown",
      "source": [
        "# Taller 3\n",
        "\n",
        "##ALGORITMO GENÉTICO\n",
        "\n",
        "\n",
        "Una empresa de campo debe cargar una camioneta con sensores y\n",
        "herramientas para una expedición. Cada ítem tiene peso y valor\n",
        "(beneficio operativo). La camioneta tiene una capacidad máxima\n",
        "de peso. Selecciona el subconjunto de ítems que maximiza el\n",
        "valor total sin exceder la capacidad.\n",
        "Usa un algoritmo genético con codificación binaria (1 = llevar\n",
        "el ítem, 0 = no llevarlo), selección por torneo, crossover de\n",
        "un punto y mutación bit-flip.\n"
      ],
      "metadata": {
        "id": "tsBFoQUlnMcB"
      }
    },
    {
      "cell_type": "markdown",
      "source": [
        "Para resolver el ejercicio, primero se determinan los elementos con sus pesos y precio respectivo. La siguiente tabla ilustra los elementos mencionados."
      ],
      "metadata": {
        "id": "baH2pzjpnojn"
      }
    },
    {
      "cell_type": "markdown",
      "source": [
        "### Tabla 1: Elementos, valores y peso.\n",
        "$$\n",
        "\\begin{array}{|c|c|c|c|c|}\n",
        "\\hline\n",
        "\\begin{array}{c}\\textbf{Elemento}& \\end{array} & \\textbf{Valor} & \\textbf{Peso} \\\\\n",
        "\\hline\n",
        " Sensor \\ IR & $ \\ 500 & 5 \\ kg  \\\\\n",
        " Sensor \\ Sonido & $ \\ 230 & 11 \\ kg  \\\\\n",
        " Sensor \\ GPS & $\\ 100 & 15 \\ kg  \\\\\n",
        " Sensor \\ Temp & $ \\ 95.2 & 10 \\ kg  \\\\\n",
        " Sensor \\ Humedad & $ \\ 112.5 & 8 \\ kg  \\\\\n",
        " Sensor Presión & $ \\ 220 & 9 \\ kg  \\\\\n",
        " Sensor \\ Gases & $ \\ 450 & 7 \\ kg  \\\\\n",
        " Cámara & $ \\ 400 & 10 \\ kg  \\\\\n",
        " Computadora & $ \\ 1000 & 5 \\ kg  \\\\\n",
        " Power \\ Bank & $ \\ 500 & 10 \\ kg  \\\\\n",
        " Tienda \\ Campaña & $ \\ 1000 & 40 \\ kg  \\\\\n",
        " Teléfono \\ Satelital & $ \\ 400 & 18 \\ kg  \\\\\n",
        "\\hline\n",
        "\\end{array}\n",
        "$$"
      ],
      "metadata": {
        "id": "5mHrl25bn-FI"
      }
    },
    {
      "cell_type": "markdown",
      "source": [
        "# Observaciones para ejecutar el código\n",
        "\n",
        "- Se hará una descripción detallada de cada función del código pero al final se encuentra una celda en donde se encuentra el código completo el cuál es el ejecutable. Es decir, ejecutar el código final únicamente porque de lo contrario puede provocar errores.\n",
        "\n",
        "- El problema se soluciona de acuerdo a lo indicado en el libro de Grokking capítulos 4 y 5.\n",
        "- Cada una de las líneas de código esta comentada con la acción correspondiente."
      ],
      "metadata": {
        "id": "-GbAok0pHSHz"
      }
    },
    {
      "cell_type": "markdown",
      "source": [
        "#La solución del problema de optimización de algoritmo genético con restricción se describe a continuación."
      ],
      "metadata": {
        "id": "6yFk7cXPq_wf"
      }
    },
    {
      "cell_type": "markdown",
      "source": [
        "Primero se cargan las librerías. Mi intención es trabajar las librerías básicas con un esquema de programación orientada a objetos."
      ],
      "metadata": {
        "id": "oQ_Eu5S9tID4"
      }
    },
    {
      "cell_type": "code",
      "source": [
        "import pandas as pd # Librería para procesar datos\n",
        "import numpy as np # Librería para manipular matrices y algúnos cálculos matemáticos\n",
        "import random # Librería para utilizar algunas funciones de aleatoriedad"
      ],
      "metadata": {
        "id": "hFKATcagtVvS"
      },
      "execution_count": null,
      "outputs": []
    },
    {
      "cell_type": "markdown",
      "source": [
        "Se crea la clase AG (algoritmo genético) y se estructura el contructor __init__. Las variables instancia que son los atributos del objeto."
      ],
      "metadata": {
        "id": "df7OZDxYte8q"
      }
    },
    {
      "cell_type": "code",
      "source": [
        "  # class AG:\n",
        "\n",
        "  #   def __init__(self, pob, df, Peso_Max, prob_mutacion=0.1):\n",
        "  #       self.pob = pob # Variable para el número de población\n",
        "  #       self.df = df # Declara el DataFrame\n",
        "  #       self.Peso_Max = Peso_Max # Peso máximo permitido\n",
        "  #       self.prob_mutacion = prob_mutacion # Probabilidad de mutación\n",
        "  #       self.elite = None"
      ],
      "metadata": {
        "id": "MQPenpoZuBPw"
      },
      "execution_count": null,
      "outputs": []
    },
    {
      "cell_type": "markdown",
      "source": [
        "## Método población\n",
        "\n",
        "Se define el método población que, básicamente crea los cromosomas iniciales aleatoriamente con ceros y unos de acuerdo al número de población y el número de genes con la función random. Posteriormente, se generan dos arreglos, uno para el precio de cada objeto y otro para el peso respectivo de cada objeto, tal cuál se muestra en la tabla 1."
      ],
      "metadata": {
        "id": "WGPeSGqwuhCp"
      }
    },
    {
      "cell_type": "code",
      "source": [
        "    # def Poblacion(self):\n",
        "    #     self.crom = np.random.randint(0, 2, size=(self.pob, len(self.df))) # Realiza cromosomas aleatoriamente\n",
        "    #     self.precio = np.array(self.df['Precio [$]']) # Creación de lista con los valores del precio de cada objeto\n",
        "    #     self.peso = np.array(self.df['Peso [kg]']) # Creación de lista con los valores de peso de cada objeto\n",
        "    #     return self.crom, self.precio, self.peso # Se retornan las tres variables para posteriormente ser utilizadas en las demás funciones."
      ],
      "metadata": {
        "id": "6iWf9gv9uhWG"
      },
      "execution_count": null,
      "outputs": []
    },
    {
      "cell_type": "markdown",
      "source": [
        "## Método fitness\n",
        "\n",
        "Se crea la función para el cálculo del fitness de la siguiente manera: Primero, se crean dos arreglos con valores de cero inicialmente de acuerdo al número de filas que posee la matriz cromosomas (crom.shape[0]). Luego, con doble ciclo for, se recorre cada gen de todos los cromosomas y se verifica que gen tiene valor de uno (1). Esto indica que, el objeto se encuentra en el cromosoma y luego se suman los valores de peso y precio de todos los genes contenidos en cada cromosoma y se obtienen sus valores de fitness y peso. Esto para saber si cumplen con la restricción indicada.   "
      ],
      "metadata": {
        "id": "H7CrjfzgvlWQ"
      }
    },
    {
      "cell_type": "code",
      "source": [
        "    # def fitness(self, crom):\n",
        "    #     fit = np.zeros(crom.shape[0]) # Genera arreglo de ceros\n",
        "    #     fit2 = np.zeros(crom.shape[0]) # Genera arreglo de ceros\n",
        "    #     for j in range(crom.shape[0]):\n",
        "    #         for i in range(crom.shape[1]): # Doble ciclo for para recorrer cada gen de cada cromosoma de toda la población\n",
        "    #             if crom[j][i] == 1: # Si el gen tiene valor se acumula su valor y se suman todos al final\n",
        "    #                 fit[j] += self.precio[i] # Suma el precio de cada objeto en cada cromosoma\n",
        "    #                 fit2[j] += self.peso[i] # Suma los pesos de cada objeto en cada cromosoma\n",
        "    #     return fit, fit2"
      ],
      "metadata": {
        "id": "HUbCiXNBvmUu"
      },
      "execution_count": null,
      "outputs": []
    },
    {
      "cell_type": "markdown",
      "source": [
        "## Método torneo\n",
        "\n",
        "Como se indica en el enunciado del ejercicio, la selección de los padres se define de acuerdo a selección por torneo.\n",
        "\n",
        "- La función torneo se ejecuta de la siguiente manera: El torneo enfrenta aleatoriamente a los cromosomas con indices pares vs impares de dos en dos, ejemplo: (0 vs 1, 2 vs 3, 4 vs 5....) y ganará el cromosoma con mayor valor de la función fitness (mayor precio).\n",
        "En cada población, la matriz se mezcla aleatoriamente para tener más diversidad en el torneo. Es decir, que un cromosoma en la matriz puede ingresar a la función (torneo) con el índice o número de fila 7, y posterior a la mezcla aleatoria (random) puede quedar ubicado en la fila 1."
      ],
      "metadata": {
        "id": "0TmmIsA60cxX"
      }
    },
    {
      "cell_type": "code",
      "source": [
        "\n",
        "    # def torneo(self, crom):\n",
        "    #     indices = np.random.permutation(crom.shape[0]) # Se escogen los indices al azar\n",
        "    #     matriz_reordenada = crom[indices] # Se reordena la matriz cromosomas para realizar los grupos del torneo\n",
        "    #     fit1, fit2 = self.fitness(matriz_reordenada) # Se calculan los valores de fitness y peso de cada cromosoma en la matriz reordenada.\n",
        "\n",
        "    #     Matriz_torneo = [] # Genera lista vacía para guardar posteriormente datos de los cromosomas ganadores del torneo\n",
        "    #     Matriz_restriccion = [] # Genera lista vacía para guardar posteriormente datos de los valores de peso (kg) de cada cromosoma ganador del torneo\n",
        "    #     Matriz_Fitness = []  # Genera lista vacía para guardar posteriormente datos de los valores de precio ($) de cada cromosoma ganador del torneo\n",
        "\n",
        "    #     i = 0\n",
        "    #     while i < len(matriz_reordenada): # Bucle para determinar los cromosomas más fuertes de cada grupo\n",
        "    #         idx1 = i\n",
        "    #         idx2 = i+1 if i+1 < len(matriz_reordenada) else i # Se generan los índices de cada cromosoma que van a competir\n",
        "\n",
        "    #         fit1_1 = fit1[idx1] # Se guarda el valor del fitness para para los índices de los cromosomas pares [0,2,4,6....]\n",
        "    #         fit1_2 = fit1[idx2] # Se guarda el valor del fitness para los índices de los cromosomas impares [1,3,5,7.....]\n",
        "    #         fit2_1 = fit2[idx1] # Se guarda el valor de los pesos (kg) para los índices de los cromosomas pares\n",
        "    #         fit2_2 = fit2[idx2] # Se guarda el valor de los pesos (kg) para los índices de los cromosomas impares\n",
        "    #         fila1 = matriz_reordenada[idx1] # Se guardan los cromosomas con los índices pares de la matriz reordenada\n",
        "    #         fila2 = matriz_reordenada[idx2] # Se guardan los cromosomas con los índices impares de la matriz reordenada\n",
        "\n",
        "    #         Matriz_torneo.append(fila1 if fit1_1 > fit1_2 and fit2_1 < fit2_2 else fila2) # Se inicia el torne de 2 en 2 y gana el que mayor valor de fitness (precio) tenga\n",
        "    #         Matriz_restriccion.append(fit2_1 if fit1_1 > fit1_2 and fit2_1 < fit2_2 else fit2_2) # Se genera una lista con los valores de pesos (kg) de los cromosomas ganadores\n",
        "    #         Matriz_Fitness.append(fit1_1 if fit1_1 > fit1_2 and 0 < fit2_1 < fit2_2 else fit1_2) # Se genera una lista con los valores de fitness ($) de los cromosomas ganadores\n",
        "    #         i += 2\n",
        "\n",
        "    #     Matriz_Ganadores = np.array(Matriz_torneo) # se convierten las listas a arreglos de numpy para poderlos procesar posteriormente sin errores\n",
        "    #     Valor_Rest_crom = np.array(Matriz_restriccion) # se convierten las listas a arreglos de numpy para poderlos procesar posteriormente sin errores\n",
        "    #     Valor_Fitness = np.array(Matriz_Fitness) # se convierten las listas a arreglos de numpy para poderlos procesar posteriormente sin errores\n",
        "\n",
        "    #     ganadores, padres_n, restriccion, fitness = self.restriccion(Matriz_Ganadores, Valor_Rest_crom, Valor_Fitness, self.Peso_Max) # Función que determina si los cromosomas cumplen la restricción\n",
        "    #     return ganadores, padres_n, fitness, restriccion # Se retornan los valores indicados"
      ],
      "metadata": {
        "id": "tdITrKdB0c_I"
      },
      "execution_count": null,
      "outputs": []
    },
    {
      "cell_type": "markdown",
      "source": [
        "## Método restricción\n",
        "Se definió la función restricción de la siguiente manera: Una vez generada la población de cromosomas y realizado el torneo, los cromosomas ganadores se someten a validación de la restricción, que para este caso es un peso X específico el cuál se puede configurar. En dado caso que algún cromosoma no cumpla con la restricción, este se elimina y se reemplaza por un cromosoma generado aleatoriamente que cumpla la restricción sin importar su Fitness. Esto tiene una razón y es mantener la población constante, ya que se reemplazan los cromosomas que no cumplen la restricción y se generan cromosomas nuevos que reemplazan los eliminados en el torneo. El cromosoma más fuerte en cuanto a valor de fitness y que cumpla la restricción, se conservará para la siguiente generación y solo se reemplazará si aparece un cromosoma con un Fitness mayor y que cumpla lal restricción (como se explicará más adelante). Esto hace que se conserve la mejor respuesta en cada generación y se optimice el algoritmo genético."
      ],
      "metadata": {
        "id": "KK69rFI27m_P"
      }
    },
    {
      "cell_type": "code",
      "source": [
        "\n",
        "    # def restriccion(self, Matriz_Ganadores, matriz_restriccion, matriz_objetivo, rest):\n",
        "    #     for i in range(len(Matriz_Ganadores)):\n",
        "    #         if rest < matriz_restriccion[i]: # Define si el valor de la restricción (peso kg) de cada cromosoma esta por debajo (cumple) y se salta a la siguente línea de código.\n",
        "    #             continue\n",
        "    #         else:\n",
        "    #             peso_valido = False # Valida si el peso máximo permitido no se cumple y se inicia un proceso de generar un nuevo cromosoma válido\n",
        "    #             intentos = 0\n",
        "    #             while not peso_valido and intentos < 100: # Si el peso no es válido, se intenta generar aleatoriamente otro cromosoma que cumpla con la restricción sin importar el fit, se intenta buscar el cromosoma 100 veces.\n",
        "    #                 nuevo = np.random.randint(0, 2, size=len(self.df)) # Se genera el nuevo cromosoma aleatoriamente\n",
        "    #                 peso = np.sum(nuevo * self.peso) # Multiplica los valores del nuevo cromosoma por el peso de cada gen y los suma\n",
        "    #                 if peso <= rest: # Si el peso es menor o igual a la restricción\n",
        "    #                     Matriz_Ganadores[i] = nuevo # Se agregan los nuevos cromosomas que cumplen con la restricción a la matriz de cromosomas ganadores del torneo\n",
        "    #                     peso_valido = True # Marca como válido para salir del bucle\n",
        "    #                 intentos += 1\n",
        "\n",
        "    #     matriz_padres_n = Matriz_Ganadores # Se agrega a la matriz padres, los cromosomas aptos para reproducción\n",
        "    #     fit, rest = self.fitness(matriz_padres_n) # Se evalúan los fitness de los cromosomas padres\n",
        "    #     return Matriz_Ganadores, matriz_padres_n, rest, fit # Retorna los valores indicados para posterior procesamiento"
      ],
      "metadata": {
        "id": "ZiN1xLPn7nhr"
      },
      "execution_count": null,
      "outputs": []
    },
    {
      "cell_type": "markdown",
      "source": [
        "## Método cruce de un punto\n",
        "\n",
        "Esta función selecciona los padres para realizar el cruce de un punto. Los cromosomas se cruzan de la siguiente manera: Se cruzarán según su índice o número de fila en la matriz padres, el cromosoma ubicado en la posición 0, se cruzara con el cromosoma ubicado en la posición 1. El cromosoma ubicado en la posición 2 con el 3 y asi sucesivamente hasta completar toda la población de padres. De esta manera se realiza el cruce y se obtienen la siguiente generación de cromosomas."
      ],
      "metadata": {
        "id": "AcHaUk6o2oyF"
      }
    },
    {
      "cell_type": "code",
      "source": [
        "\n",
        "    # def cruce_un_punto(self, padres):\n",
        "    #     hijos = [] # Creación de una lista vacía para la siguiente generación o hijos\n",
        "    #     for i in range(0, len(padres), 2): # Se recorre la lista de 2 en dos para realizar los cruces por ejemplo [0,1],[2,3]....\n",
        "    #         padre1 = padres[i] # Se define el primer padre [0,2,4,6,8...]\n",
        "    #         padre2 = padres[i+1] if i+1 < len(padres) else padres[i] # Se define el segundo padre [1,3,5,7.....] siempre y cuando la dimensión no exceda la dispuesta, de lo contrario, se reutiliza el padre 1 (evita errores de dimensión)\n",
        "    #         punto = random.randint(1, len(padre1) - 1) # Realiza un corte aleatorio entre, considerando solo los genes desde el índice 0 hasta el penúltimo indice n-1 (no tendría sentido hacer cortes en el primer y último gen)\n",
        "    #         hijo1 = np.concatenate([padre1[:punto], padre2[punto:]]) # Se crea el primer hijo cruzando la primer parte del padre1 y la segunda del padre2\n",
        "    #         hijo2 = np.concatenate([padre2[:punto], padre1[punto:]]) # Se crea el segundo hijo cruzando la segunda parte del padre1 y la primera del padre2\n",
        "    #         hijos.extend([hijo1, hijo2]) # Se agregan los hijos creados anteriormente a la lista hijos\n",
        "    #     return np.array(hijos[:len(padres)]) # Retorna un arreglo con el número de cromosomas (hijos) con la misma dimensión de los padres para conservar la misma población en cada generación"
      ],
      "metadata": {
        "id": "dqGbqC4f2paz"
      },
      "execution_count": null,
      "outputs": []
    },
    {
      "cell_type": "markdown",
      "source": [
        "## Método mutación (Bit Fit)\n",
        "\n",
        "La mutación implementada en el ejercicio es Bit Fit. La siguiente función realiza este procedimiento de acuerdo a una probabilidad de mutación la cuál es ajustable. Básicamente esta función recorre todos los genes y verifica su valor y se genera un número aleatorio de cero a uno gracias a la función random.random(), si este valor es menor a la probabilidad de mutación, se cambia el valor del alelo (muta), de lo contrario, se deja el valor intacto (no muta).\n",
        "\n"
      ],
      "metadata": {
        "id": "Ln0FXziF8kBx"
      }
    },
    {
      "cell_type": "code",
      "source": [
        "\n",
        "    # def mutacion_bitflip(self, cromosomas):\n",
        "    #     for i in range(cromosomas.shape[0]): # Ciclo para recorrer todas las posiciones de las filas de los cromosomas\n",
        "    #         for j in range(cromosomas.shape[1]): # Ciclo para recorrer todas las posiciones de las columnas de los cromosomas\n",
        "    #             if random.random() < self.prob_mutacion: # random.random genera un número de 0 a 1 aleatoriamente. Si el número es menor o igual a la probabiliad de mutar, se cambia el valor del alelo\n",
        "    #                 cromosomas[i][j] = 1 - cromosomas[i][j] # Si hay mutación, se cambia el valor del alelo de (0 a 1) o de (1 a 0)\n",
        "    #             else:\n",
        "    #                 cromosomas[i][j] = cromosomas[i][j] # Si no hay mutación, se mantiene el valor del alelo\n",
        "\n",
        "    #     return cromosomas # Retorna los cromosomas mutados"
      ],
      "metadata": {
        "id": "vgIa2UXH8kKA"
      },
      "execution_count": null,
      "outputs": []
    },
    {
      "cell_type": "markdown",
      "source": [
        "## Método actualizar élite\n",
        "\n",
        "La siguiente función (actualizar_elite), simplemente evalúa que el cromosoma con mejor fitness en cada generación cumpla la condición de restricción y se conserve este cromosoma. Solo en caso de generar un cromosoma con mejor fitness y que cumpla la restricción, se actualilza el valor para que en cada generación se conserve el mejor de todos. Esto ayudará a optimizar la mejor solución."
      ],
      "metadata": {
        "id": "4NKjLRnnCP7u"
      }
    },
    {
      "cell_type": "code",
      "source": [
        "\n",
        "    # def actualizar_elite(self, matriz_padres, fit, rest):\n",
        "    #     for i in range(len(fit)):\n",
        "    #         if rest[i] <= self.Peso_Max: # Evalúa el valor actual de peso de cada cromosoma y verifica que sea menor que la restricción propuesta\n",
        "    #             if self.elite is None or fit[i] > self.elite[0]: # Si el valor de fitness de los cromosomas actuales es mayor al valor de fitness de el cromosoma con mejor fitness entonces:\n",
        "    #                 self.elite = (fit[i], rest[i], matriz_padres[i]) # Se guardan los valores de fitness, peso y el cromosoma (reemplaza el mejor cromosoma actual y lo conserva)"
      ],
      "metadata": {
        "id": "l3HqIKsDCQM4"
      },
      "execution_count": null,
      "outputs": []
    },
    {
      "cell_type": "markdown",
      "source": [
        "## Método mostrar generaciones\n",
        "\n",
        "La siguiente función permite visualizar en pantalla el progreso del algoritmo genético. Simplemente, se visualiza el mejor cromosoma (elite) de cada generación o iteración para ver el avance de la optimización."
      ],
      "metadata": {
        "id": "QNo-gCI2BowI"
      }
    },
    {
      "cell_type": "code",
      "source": [
        "\n",
        "    # def mostrar_generacion(self, generacion):\n",
        "    #     if self.elite:\n",
        "    #         fit_val, peso_val, crom = self.elite\n",
        "    #         objetos = [self.df['Objeto'][i] for i in range(len(crom)) if crom[i] == 1] # Crea una lista con los objetos al que pertenece cada gen del mejor cromosoma en cada generación\n",
        "    #         print(f'🧬 Generación {generacion}:') # Imprime la generación actual en cada iteración\n",
        "    #         print(f'   - Mejor Fitness hasta ahora: ${fit_val:.2f}') # Imprime el mejor valor de fitness actual en cada iteración\n",
        "    #         print(f'   - Peso: {peso_val} kg') # Imprime el valor de peso o restricción del mejor cromosoma actual\n",
        "    #         print(f'   - Cromosoma: {crom}') # Imprime los valores de cada gen del mejor cromosoma en cada generación\n",
        "    #         print(f'   - Objetos: {objetos}\\n') # Imprime los objetos del cromosoma o mejor respuesta actual\n",
        "    #     else:\n",
        "    #         print(f'⚠️ Generación {generacion}: No se encontró solución válida.\\n') # En caso de no encontrar el mejor cromosoma, se imprime un mensaje de advertencia"
      ],
      "metadata": {
        "id": "jOJE7EMABuTa"
      },
      "execution_count": null,
      "outputs": []
    },
    {
      "cell_type": "markdown",
      "source": [
        "## Método ejecutar código\n",
        "\n",
        "Se crea una función para ejecutar el código utilizando las funciones creadas anteriormente."
      ],
      "metadata": {
        "id": "kQdvQO-rDVrU"
      }
    },
    {
      "cell_type": "code",
      "source": [
        "\n",
        "    # def ejecutar(self, generaciones):\n",
        "    #     self.Poblacion() # Se llama la función poblacion\n",
        "    #     poblacion_actual = self.crom # Se define la población actual\n",
        "    #     for gen in range(1, generaciones + 1): # Ciclo para recorrer los cromosomas de cada generación\n",
        "    #         ganadores, padres_n, fitness, restriccion = self.torneo(poblacion_actual) # Se ejecuta el torneo\n",
        "    #         hijos_cruzados = self.cruce_un_punto(padres_n)  # Se aplica el cruce de un punto\n",
        "    #         padres_mutados = self.mutacion_bitflip(hijos_cruzados)  # Se aplica la mutación bit fit\n",
        "    #         self.actualizar_elite(padres_mutados, fitness, restriccion) # Se actualiza la elite (mejor cromosoma con mejor fitness y restricción)\n",
        "    #         self.mostrar_generacion(gen) # Se muestra el cromosoma\n",
        "    #         poblacion_actual = padres_mutados # Sea actualiza la población actual y vuelve a ingregar al ciclo iterativo"
      ],
      "metadata": {
        "id": "CInoGfqgDV27"
      },
      "execution_count": null,
      "outputs": []
    },
    {
      "cell_type": "markdown",
      "source": [
        "## Líneas para ejecutar el código\n",
        "\n",
        "Las siguientes líneas de código ingresan los datos principales para poder ejecutar el código. Las variables a ingresar son:\n",
        "\n",
        "- Datos (objeto, peso del objeto [kg] y precio del objeto [$].\n",
        "\n",
        "- Número de generaciones o iteraciones que se quiere implementar.\n",
        "\n",
        "- Población de cromosomas en cada generación.\n",
        "\n",
        "- Valor máximo del peso [kg] o restricción\n",
        "\n",
        "Posteriormente se llama la clase algorítmo genético 'AG' que pide ingresar el número de pobladores o cromosomas en cada generación, el DataFrame de los datos y el valor de la restricción. Una vez se llama la clase, se imprime la función ejecutar para visualizar los resultados en pantalla."
      ],
      "metadata": {
        "id": "JXYzuQVpEXto"
      }
    },
    {
      "cell_type": "code",
      "source": [
        "# datos = {\n",
        "#     'Objeto': ['Sensor IR', 'Sensor sonido', 'Sensor GPS', 'Sensor T','Sensor humedad','Sensor presión','Sensor gases','Cámara','Computadora','Power banks','Tienda campaña','Telefono satelital'],\n",
        "#     'Peso [kg]': [5, 11, 15, 10, 8, 9, 7, 10, 5, 10, 40, 18],\n",
        "#     'Precio [$]': [500, 230, 100, 95.2, 112.5, 220, 450, 400, 1000, 500, 1000, 400]\n",
        "# }\n",
        "\n",
        "# df = pd.DataFrame(datos) # Genera un DataFrame con los datos\n",
        "# generaciones=500 # Número de generaciones o iteraciones\n",
        "# poblacion = 20 # Valor de la población de cromosomas\n",
        "# Peso_Maximo=80 # Valor de la restricción, en este caso el peso máximo en kg o capacidad del camión\n",
        "# modelo = AG(poblacion, df,Peso_Maximo) # Llama la clase algoritmo genético (AG)\n",
        "# print(modelo.ejecutar(generaciones)) # Ejecuta la función de la clase ejecutar que contiene todas las del algoritmo"
      ],
      "metadata": {
        "id": "HmMstZ3wEYIL"
      },
      "execution_count": null,
      "outputs": []
    },
    {
      "cell_type": "markdown",
      "source": [
        "# Por favor correr el código completo que se encuentra a continuación para visualizar los resultados del algoritmo genético implementado anteriormente."
      ],
      "metadata": {
        "id": "0nGXz2VyFvrl"
      }
    },
    {
      "cell_type": "code",
      "execution_count": null,
      "metadata": {
        "id": "MzhpyiVBvg-1"
      },
      "outputs": [],
      "source": [
        "import pandas as pd # Librería para procesar datos\n",
        "import numpy as np # Librería para manipular matrices y algúnos cálculos matemáticos\n",
        "import random # Librería para utilizar algunas funciones de aleatoriedad\n",
        "\n",
        "class AG:\n",
        "\n",
        "    def __init__(self, pob, df, Peso_Max, prob_mutacion=0.1):\n",
        "        self.pob = pob # Variable para el número de población\n",
        "        self.df = df # Declara el DataFrame\n",
        "        self.Peso_Max = Peso_Max # Peso máximo permitido\n",
        "        self.prob_mutacion = prob_mutacion # Probabilidad de mutación\n",
        "        self.elite = None\n",
        "\n",
        "    def Poblacion(self):\n",
        "        self.crom = np.random.randint(0, 2, size=(self.pob, len(self.df))) # Realiza cromosomas aleatoriamente\n",
        "        self.precio = np.array(self.df['Precio [$]']) # Creación de lista con los valores del precio de cada objeto\n",
        "        self.peso = np.array(self.df['Peso [kg]']) # Creación de lista con los valores de peso de cada objeto\n",
        "        return self.crom, self.precio, self.peso # Se retornan las tres variables para posteriormente ser utilizadas en las demás funciones.\n",
        "\n",
        "    def fitness(self, crom):\n",
        "        fit = np.zeros(crom.shape[0]) # Genera arreglo de ceros\n",
        "        fit2 = np.zeros(crom.shape[0]) # Genera arreglo de ceros\n",
        "        for j in range(crom.shape[0]):\n",
        "            for i in range(crom.shape[1]): # Doble ciclo for para recorrer cada gen de cada cromosoma de toda la población\n",
        "                if crom[j][i] == 1: # Si el gen tiene valor se acumula su valor y se suman todos al final\n",
        "                    fit[j] += self.precio[i] # Suma el precio de cada objeto en cada cromosoma\n",
        "                    fit2[j] += self.peso[i] # Suma los pesos de cada objeto en cada cromosoma\n",
        "        return fit, fit2\n",
        "\n",
        "    def torneo(self, crom):\n",
        "        indices = np.random.permutation(crom.shape[0]) # Se escogen los indices al azar\n",
        "        matriz_reordenada = crom[indices] # Se reordena la matriz cromosomas para realizar los grupos del torneo\n",
        "        fit1, fit2 = self.fitness(matriz_reordenada) # Se calculan los valores de fitness y peso de cada cromosoma en la matriz reordenada.\n",
        "\n",
        "        Matriz_torneo = [] # Genera lista vacía para guardar posteriormente datos de los cromosomas ganadores del torneo\n",
        "        Matriz_restriccion = [] # Genera lista vacía para guardar posteriormente datos de los valores de peso (kg) de cada cromosoma ganador del torneo\n",
        "        Matriz_Fitness = []  # Genera lista vacía para guardar posteriormente datos de los valores de precio ($) de cada cromosoma ganador del torneo\n",
        "\n",
        "        i = 0\n",
        "        while i < len(matriz_reordenada): # Bucle para determinar los cromosomas más fuertes de cada grupo\n",
        "            idx1 = i\n",
        "            idx2 = i+1 if i+1 < len(matriz_reordenada) else i # Se generan los índices de cada cromosoma que van a competir\n",
        "\n",
        "            fit1_1 = fit1[idx1] # Se guarda el valor del fitness para para los índices de los cromosomas pares [0,2,4,6....]\n",
        "            fit1_2 = fit1[idx2] # Se guarda el valor del fitness para los índices de los cromosomas impares [1,3,5,7.....]\n",
        "            fit2_1 = fit2[idx1] # Se guarda el valor de los pesos (kg) para los índices de los cromosomas pares\n",
        "            fit2_2 = fit2[idx2] # Se guarda el valor de los pesos (kg) para los índices de los cromosomas impares\n",
        "            fila1 = matriz_reordenada[idx1] # Se guardan los cromosomas con los índices pares de la matriz reordenada\n",
        "            fila2 = matriz_reordenada[idx2] # Se guardan los cromosomas con los índices impares de la matriz reordenada\n",
        "\n",
        "            Matriz_torneo.append(fila1 if fit1_1 > fit1_2 and fit2_1 < fit2_2 else fila2) # Se inicia el torne de 2 en 2 y gana el que mayor valor de fitness (precio) tenga\n",
        "            Matriz_restriccion.append(fit2_1 if fit1_1 > fit1_2 and fit2_1 < fit2_2 else fit2_2) # Se genera una lista con los valores de pesos (kg) de los cromosomas ganadores\n",
        "            Matriz_Fitness.append(fit1_1 if fit1_1 > fit1_2 and 0 < fit2_1 < fit2_2 else fit1_2) # Se genera una lista con los valores de fitness ($) de los cromosomas ganadores\n",
        "            i += 2\n",
        "\n",
        "        Matriz_Ganadores = np.array(Matriz_torneo) # se convierten las listas a arreglos de numpy para poderlos procesar posteriormente sin errores\n",
        "        Valor_Rest_crom = np.array(Matriz_restriccion) # se convierten las listas a arreglos de numpy para poderlos procesar posteriormente sin errores\n",
        "        Valor_Fitness = np.array(Matriz_Fitness) # se convierten las listas a arreglos de numpy para poderlos procesar posteriormente sin errores\n",
        "\n",
        "        ganadores, padres_n, restriccion, fitness = self.restriccion(Matriz_Ganadores, Valor_Rest_crom, Valor_Fitness, self.Peso_Max) # Función que determina si los cromosomas cumplen la restricción\n",
        "        return ganadores, padres_n, fitness, restriccion # Se retornan los valores indicados\n",
        "\n",
        "    def restriccion(self, Matriz_Ganadores, matriz_restriccion, matriz_objetivo, rest):\n",
        "        for i in range(len(Matriz_Ganadores)):\n",
        "            if rest < matriz_restriccion[i]: # Define si el valor de la restricción (peso kg) de cada cromosoma esta por debajo (cumple) y se salta a la siguente línea de código.\n",
        "                continue\n",
        "            else:\n",
        "                peso_valido = False # Valida si el peso máximo permitido no se cumple y se inicia un proceso de generar un nuevo cromosoma válido\n",
        "                intentos = 0\n",
        "                while not peso_valido and intentos < 100: # Si el peso no es válido, se intenta generar aleatoriamente otro cromosoma que cumpla con la restricción sin importar el fit, se intenta buscar el cromosoma 100 veces.\n",
        "                    nuevo = np.random.randint(0, 2, size=len(self.df)) # Se genera el nuevo cromosoma aleatoriamente\n",
        "                    peso = np.sum(nuevo * self.peso) # Multiplica los valores del nuevo cromosoma por el peso de cada gen y los suma\n",
        "                    if peso <= rest: # Si el peso es menor o igual a la restricción\n",
        "                        Matriz_Ganadores[i] = nuevo # Se agregan los nuevos cromosomas que cumplen con la restricción a la matriz de cromosomas ganadores del torneo\n",
        "                        peso_valido = True # Marca como válido para salir del bucle\n",
        "                    intentos += 1\n",
        "\n",
        "        matriz_padres_n = Matriz_Ganadores # Se agrega a la matriz padres, los cromosomas aptos para reproducción\n",
        "        fit, rest = self.fitness(matriz_padres_n) # Se evalúan los fitness de los cromosomas padres\n",
        "        return Matriz_Ganadores, matriz_padres_n, rest, fit # Retorna los valores indicados para posterior procesamiento\n",
        "\n",
        "\n",
        "    def cruce_un_punto(self, padres):\n",
        "        hijos = [] # Creación de una lista vacía para la siguiente generación o hijos\n",
        "        for i in range(0, len(padres), 2): # Se recorre la lista de 2 en dos para realizar los cruces por ejemplo [0,1],[2,3]....\n",
        "            padre1 = padres[i] # Se define el primer padre [0,2,4,6,8...]\n",
        "            padre2 = padres[i+1] if i+1 < len(padres) else padres[i] # Se define el segundo padre [1,3,5,7.....] siempre y cuando la dimensión no exceda la dispuesta, de lo contrario, se reutiliza el padre 1 (evita errores de dimensión)\n",
        "            punto = random.randint(1, len(padre1) - 1) # Realiza un corte aleatorio entre, considerando solo los genes desde el índice 0 hasta el penúltimo indice n-1 (no tendría sentido hacer cortes en el primer y último gen)\n",
        "            hijo1 = np.concatenate([padre1[:punto], padre2[punto:]]) # Se crea el primer hijo cruzando la primer parte del padre1 y la segunda del padre2\n",
        "            hijo2 = np.concatenate([padre2[:punto], padre1[punto:]]) # Se crea el segundo hijo cruzando la segunda parte del padre1 y la primera del padre2\n",
        "            hijos.extend([hijo1, hijo2]) # Se agregan los hijos creados anteriormente a la lista hijos\n",
        "        return np.array(hijos[:len(padres)]) # Retorna un arreglo con el número de cromosomas (hijos) con la misma dimensión de los padres para conservar la misma población en cada generación\n",
        "\n",
        "    def mutacion_bitflip(self, cromosomas):\n",
        "        for i in range(cromosomas.shape[0]): # Ciclo para recorrer todas las posiciones de las filas de los cromosomas\n",
        "            for j in range(cromosomas.shape[1]): # Ciclo para recorrer todas las posiciones de las columnas de los cromosomas\n",
        "                if random.random() < self.prob_mutacion: # random.random genera un número de 0 a 1 aleatoriamente. Si el número es menor o igual a la probabiliad de mutar, se cambia el valor del alelo\n",
        "                    cromosomas[i][j] = 1 - cromosomas[i][j] # Si hay mutación, se cambia el valor del alelo de (0 a 1) o de (1 a 0)\n",
        "                else:\n",
        "                    cromosomas[i][j] = cromosomas[i][j] # Si no hay mutación, se mantiene el valor del alelo\n",
        "\n",
        "        return cromosomas # Retorna los cromosomas mutados\n",
        "\n",
        "    def actualizar_elite(self, matriz_padres, fit, rest):\n",
        "        for i in range(len(fit)):\n",
        "            if rest[i] <= self.Peso_Max: # Evalúa el valor actual de peso de cada cromosoma y verifica que sea menor que la restricción propuesta\n",
        "                if self.elite is None or fit[i] > self.elite[0]: # Si el valor de fitness de los cromosomas actuales es mayor al valor de fitness de el cromosoma con mejor fitness entonces:\n",
        "                    self.elite = (fit[i], rest[i], matriz_padres[i]) # Se guardan los valores de fitness, peso y el cromosoma (reemplaza el mejor cromosoma actual y lo conserva)\n",
        "\n",
        "    def mostrar_generacion(self, generacion):\n",
        "        if self.elite:\n",
        "            fit_val, peso_val, crom = self.elite\n",
        "            objetos = [self.df['Objeto'][i] for i in range(len(crom)) if crom[i] == 1]\n",
        "            print(f'🧬 Generación {generacion}:')\n",
        "            print(f'   - Mejor Fitness hasta ahora: ${fit_val:.2f}')\n",
        "            print(f'   - Peso: {peso_val} kg')\n",
        "            print(f'   - Cromosoma: {crom}')\n",
        "            print(f'   - Objetos: {objetos}\\n')\n",
        "        else:\n",
        "            print(f'⚠️ Generación {generacion}: No se encontró solución válida.\\n')\n",
        "\n",
        "\n",
        "    def ejecutar(self, generaciones):\n",
        "        self.Poblacion()\n",
        "        poblacion_actual = self.crom\n",
        "        for gen in range(1, generaciones + 1):\n",
        "            ganadores, padres_n, fitness, restriccion = self.torneo(poblacion_actual)\n",
        "            hijos_cruzados = self.cruce_un_punto(padres_n)  # 🧬 Aplicar cruce\n",
        "            padres_mutados = self.mutacion_bitflip(hijos_cruzados)  # 🔁 Aplicar mutación\n",
        "            self.actualizar_elite(padres_mutados, fitness, restriccion)\n",
        "            self.mostrar_generacion(gen)\n",
        "            poblacion_actual = padres_mutados\n",
        "\n",
        "\n",
        "\n",
        "datos = {\n",
        "    'Objeto': ['Sensor IR', 'Sensor sonido', 'Sensor GPS', 'Sensor T','Sensor humedad','Sensor presión','Sensor gases','Cámara','Computadora','Power banks','Tienda campaña','Telefono satelital'],\n",
        "    'Peso [kg]': [5, 11, 15, 10, 8, 9, 7, 10, 5, 10, 40, 18],\n",
        "    'Precio [$]': [500, 230, 100, 95.2, 112.5, 220, 450, 400, 1000, 500, 1000, 400]\n",
        "}\n",
        "\n",
        "df = pd.DataFrame(datos) # Genera un DataFrame con los datos\n",
        "generaciones=5000 # Número de generaciones o iteraciones\n",
        "poblacion = 20 # Valor de la población de cromosomas\n",
        "Peso_Maximo=80 # Valor de la restricción, en este caso el peso máximo en kg o capacidad del camión\n",
        "modelo = AG(poblacion, df,Peso_Maximo) # Llama la clase algoritmo genético (AG)\n",
        "print(modelo.ejecutar(generaciones)) # Ejecuta la función de la clase ejecutar que contiene todas las del algoritmo"
      ]
    },
    {
      "cell_type": "markdown",
      "source": [
        "# ALGORITMO PSO"
      ],
      "metadata": {
        "id": "7So_bfUDFtBx"
      }
    },
    {
      "cell_type": "markdown",
      "source": [
        "## Indicación del ejercicio PSO\n",
        "\n",
        "Se desea calibrar dos parámetros continuos (𝑥, 𝑦) de un módulo\n",
        "de control para minimizar una función de costo (por ejemplo,\n",
        "una función no convexa con múltiples óptimos locales). Modela\n",
        "el problema como la búsqueda del mínimo de una función de dos\n",
        "variables en el rango [−5,5] en cada eje. Emplea PSO con\n",
        "velocidad, mejores personales (pbest) y mejor global (gbest)."
      ],
      "metadata": {
        "id": "w7W1SuwBtJaL"
      }
    },
    {
      "cell_type": "markdown",
      "source": [
        "# OBSERVACIONES\n",
        "\n",
        "- Para solucionar el ejercicio propuesto, primero se describirá módulo por módulo del código. Tal como el codigo anterior (genético). Una vez se describa todo el código, habrá una celda en donde se encuentra el código completo para ejecutarlo sin errores.\n",
        "\n",
        "- Cada una de las líneas de código esta comentada con la acción correspondiente."
      ],
      "metadata": {
        "id": "ddRxhynktpbo"
      }
    },
    {
      "cell_type": "markdown",
      "source": [
        "# Función a optimizar\n",
        "\n",
        "La función que se va a optimizar contiene múltiples mínimos locales y esta representada por la siguiente expresión matemática:\n",
        "\n",
        "$f(x)=sin(x) * cos(y) + 0.1 * x + 0.1 * y $\n",
        "\n",
        "A continuación se puede ejecutar la celda para visualizar la función"
      ],
      "metadata": {
        "id": "hAHSbstxU10I"
      }
    },
    {
      "cell_type": "code",
      "source": [
        "from sympy.plotting import plot3d\n",
        "\n",
        "x, y = sp.symbols('x y')\n",
        "\n",
        "\n",
        "f = sp.sin(x) * sp.cos(y) + 0.1 * x + 0.1 * y\n",
        "\n",
        "plot3d(f, (x, -5, 5), (y, -5, 5))"
      ],
      "metadata": {
        "id": "ynzWkRZEU19K"
      },
      "execution_count": null,
      "outputs": []
    },
    {
      "cell_type": "markdown",
      "source": [
        "# DESCRIPCIÓN ALGORITMO PSO"
      ],
      "metadata": {
        "id": "vLQEbnVwVtpv"
      }
    },
    {
      "cell_type": "markdown",
      "source": [
        "## Importación de librerías\n",
        "\n",
        "La siguiente celda importa las librerías necesarias para resolver el algoritmo propuesto."
      ],
      "metadata": {
        "id": "6Gfcpb1QuIHD"
      }
    },
    {
      "cell_type": "code",
      "source": [
        "import pandas as pd # Librería para analisis de datos\n",
        "import numpy as np # Libreria para operaciones entre matrices\n",
        "import random # Libreria para ejecutar aleatoriedad\n",
        "import sympy as sp # Librería para realizar operaciones con funciones simbólicas"
      ],
      "metadata": {
        "id": "TCFD_7kPuoQf"
      },
      "execution_count": null,
      "outputs": []
    },
    {
      "cell_type": "markdown",
      "source": [
        "## Declaración de la clase y inicio del constructor\n",
        "\n",
        "Se realiza una clase PSO y se declara la función constructor que contiene las variables necesarias para iniciar el algoritmo. Básicamente, se ejecutan variables con valor None que posteriormente se irán llenando. La última variable self.fit_guardado se inicia como un flotante con un valor muy alto ('inf') esto permite que en la primer iteración, se guarde el primer fitness como el mejor, ya que el primer valor no se puede comparar con otro."
      ],
      "metadata": {
        "id": "LhIBghKAuqGl"
      }
    },
    {
      "cell_type": "code",
      "source": [
        "# class PSO: # Se define la clase\n",
        "\n",
        "#     def __init__(self, particulas): # Inicio de la función constructor\n",
        "#         self.particulas = particulas # Variable que posee el número de partículas requeridas\n",
        "#         self.Mejor_Fit = None # Variable que guardará el mejor fitness del enjambre\n",
        "#         self.Mejor_Pos_x = None # Variable que guardará la mejor posición en el eje x local\n",
        "#         self.Mejor_Pos_y = None # Variable que guardará la mejor posición en el eje y local\n",
        "#         self.mejor_x_enjanbre = None # Variable que guardará la mejor posición de x en todo el enjambre (global)\n",
        "#         self.mejor_y_enjambre = None # Variable que guardará la mejor posición de y en todo el enjambre (global)\n",
        "#         self.mejor_f_enjambre = None # Variable que guardará el mejor fitness de todo el enjambre (global)\n",
        "#         self.vel_x = None # Variable que guardará la velocidad en el eje x cada iteración\n",
        "#         self.vel_y = None # Variable que guardará la velocidad en el eje y cada iteración\n",
        "\n",
        "#         self.fit_guardado = float('inf') # Esta línea crea una variable para guardar el mejor fit, inf significa que el valor que se encuentra será mucho más grande que cualquier valor\n",
        "#                                         # guardado por primera vez y guardará la primer iteración sin problemas. Esto es solo para que se guarde el primer valor del fitness como el mejor, ya\n",
        "#                                         # que no hay como compararlo."
      ],
      "metadata": {
        "id": "p7i8AEa7u43C"
      },
      "execution_count": null,
      "outputs": []
    },
    {
      "cell_type": "markdown",
      "source": [
        "## Método partículas\n",
        "\n",
        "La siguiente función, genera los puntos de los ejes (x,y) aleatoriamente, respetando la restricción del rango indicado. Estos puntos serán las coordenadas iniciales de cada partícula generada en todo el espacio de la función."
      ],
      "metadata": {
        "id": "cczz9OZxxB6O"
      }
    },
    {
      "cell_type": "code",
      "source": [
        "    # def Particulas(self, x0, xn, y0, yn): # Definición de la función\n",
        "    #     x1 = np.random.uniform(x0, xn, self.particulas) # Genera puntos en el eje x aleatoriamente\n",
        "    #     y1 = np.random.uniform(y0, yn, self.particulas) # Genera puntos en el eje y aleatoriamente\n",
        "    #     return x1, y1  # retorna las parejas de los puntos generados"
      ],
      "metadata": {
        "id": "Yy3wT61fxaY5"
      },
      "execution_count": null,
      "outputs": []
    },
    {
      "cell_type": "markdown",
      "source": [
        "## Método fitness\n",
        "\n",
        "Con las coordenadas generadas aleatoriamente de cada partícula, se debe calcular el valor del fitness o lo que es igual al valor de la función con cada uno de los puntos generados. La idea de esto es buscar el valor mínimo de la función fitness, el cuál representa el mínimo global de la función. En esta función, se utiliza la librería sympy que permite simbolizar la función y posteriormente evaluarla en los puntos generados gracias a la función lambdify."
      ],
      "metadata": {
        "id": "PndfAJsG4-vW"
      }
    },
    {
      "cell_type": "code",
      "source": [
        "    # def Fitness(self, f, X, Y): # Definición de la función fitness\n",
        "    #     x, y = sp.symbols('x y') # Se establecen los símbolos con los que se representará la función de 2D\n",
        "    #     fitness = sp.lambdify((x, y), f, 'numpy') # Función que convierte la función simbólica para poder aplicarle cálculos con arreglos, matrices.\n",
        "    #     return X, Y, fitness(X, Y)  # Retorna las coordenadas (x), (y) y con estas se calcula la función fitness"
      ],
      "metadata": {
        "id": "m3eZ1p5b4-2r"
      },
      "execution_count": null,
      "outputs": []
    },
    {
      "cell_type": "markdown",
      "source": [
        "## Método mejores partículas\n",
        "\n",
        "El ejercicio indica que se genere una función con mejores personajes (pbest), en este caso esa función se definió como mejores_part. Este método, selecciona las mejores coordenadas (x,y) de acuerdo con el mejor fitness para cada partícula, ya que posteriormente cuando se defina la velocidad, se necesitarán las mejores coordenadas de cada partícula y del enjambre completo.\n",
        "\n",
        "En el constructor se define la función self.Mejor_pos_x, self.Mejor_pos_y y self.Mejor_Fit = None para poderlo actualizar en esta función. Como inicialmente no se tienen mejores valores, se utilizan como iniciales los valores generados aleatoriamente. Posteriormente se actualizarán estos mejores valores de acuerdo a su valor de fitness. Únicamente se actualizan si el fitness es mejor que el anterior.\n"
      ],
      "metadata": {
        "id": "0iwhxppe7JQe"
      }
    },
    {
      "cell_type": "code",
      "source": [
        "    # def mejores_part(self, x, y, fitness): # Definición de la función mejores partículas\n",
        "    #     if self.Mejor_Fit is None: # Si la variable está vacía:\n",
        "    #         self.Mejor_Pos_x = np.array([x.copy()]) # Llena el primer dato de la mejor posición en x con las primeras coordenadas generadas aleatoriamente\n",
        "    #         self.Mejor_Pos_y = np.array([y.copy()]) # Llena el primer dato de la mejor posición en y con las primeras coordenadas generadas aleatoriamente\n",
        "    #         self.Mejor_Fit = np.array([fitness.copy()]) # Llena el primer dato del mejor fitness con los primeros datos generados en la función (Fitness)\n",
        "\n",
        "    #     for i in range(self.particulas): # Ciclo que recorre todas las posiciones de las partículas\n",
        "    #         if fitness[i] < self.Mejor_Fit[0][i]: # Define si el fitness actual es mejor que el mejor fitness de cada partícula\n",
        "    #             self.Mejor_Pos_x[0][i] = x[i] # Se actualiza el mejor valor de la coordenada x\n",
        "    #             self.Mejor_Pos_y[0][i] = y[i] # Se actualiza el mejor valor de la coordenada y\n",
        "    #             self.Mejor_Fit[0][i] = fitness[i] # Se actualiza el mejor valor del fitness para cada partícula\n",
        "    #     return self.Mejor_Pos_x, self.Mejor_Pos_y, self.Mejor_Fit # retorna los mejores valores para las coordenadas (x,y) y fitness"
      ],
      "metadata": {
        "id": "7b69-y1h839O"
      },
      "execution_count": null,
      "outputs": []
    },
    {
      "cell_type": "markdown",
      "source": [
        "# Método fitness del enjambre\n",
        "\n",
        "La función mejores_enjambre realiza una selección de la mejor partícula con mejor fitness del enjambre completo, ya que las posiciones de la mejor partícula se utilizarán para el cálculo de velocidad. Esta función escoje el valor del índice del mejor fitness para determinar las coordenadas (x,y) y posteriormente guardarlas como la mejor del enjambre. En caso de haber una partícula con mejor fitness en todo el enjambre, esta se reemplaza o se actualiza."
      ],
      "metadata": {
        "id": "pw03xageFQUy"
      }
    },
    {
      "cell_type": "code",
      "source": [
        "    # def mejores_enjambre(self): # Definición de la función mejores valores de todo el enjambre\n",
        "    #     idx = np.argmin(self.Mejor_Fit[0]) # Función que devuelve el índice del valor mínimo del Fitness de todo el enjambre de partículas\n",
        "    #     x_enjambre = self.Mejor_Pos_x[0][idx] # Selecciona la coordenada x del mejor fitness del enjambre\n",
        "    #     y_enjambre = self.Mejor_Pos_y[0][idx] # Selecciona la coordenada y del mejor fitness del enjambre\n",
        "    #     fit_enjambre = self.Mejor_Fit[0][idx] # Selecciona el valor del mejor fitness del enjambre\n",
        "\n",
        "    #     self.mejor_x_enjanbre = x_enjambre # Actualiza el valor de la coordenada x (respecto al mejor fitness del enjambre)\n",
        "    #     self.mejor_y_enjambre = y_enjambre # Actualiza el valor de la coordenada y (respecto al mejor fitness del enjambre)\n",
        "    #     self.mejor_f_enjambre = fit_enjambre # Actualiza el mejor valor de fitness del enjambre\n",
        "    #     self.fit_guardado = fit_enjambre # Guarda el mejor fitness y lo conserva hasta que se genere una partícula con fitness mejor en todo el enjambre\n",
        "\n",
        "    #     return self.mejor_x_enjanbre, self.mejor_y_enjambre, self.fit_guardado # Retorna las mejores coordenadas y el mejor fit guardado del enjambre"
      ],
      "metadata": {
        "id": "eiYtTc3zH3Ow"
      },
      "execution_count": null,
      "outputs": []
    },
    {
      "cell_type": "markdown",
      "source": [
        "## Método velocidad\n",
        "\n",
        "La función de velocidad se genera de acuerdo a como indica el libro de Grokking capítulo 7. Inicialmente, se sabe que no se tienen valores iniciales para las variables de velocidad self.vel_x y self.vel_y. Por este motivo se inician las velocidades para todas las partículas con valor de cero (0). Luego, se generan los números cognitivo y social aleatorrios para poder calcular los valores de los componentes cognitivo y social tanto en la coordenada x como la coordenada y de cada partícula. Finalmente se calcula la velocidad sumando los componentes de inercia, cognitivo y social.\n",
        "\n",
        "Para mayor información se recomienda consultar el libro de Grokking capítulo 7.\n",
        "\n"
      ],
      "metadata": {
        "id": "F5pRj26hJL4a"
      }
    },
    {
      "cell_type": "code",
      "source": [
        "    # def velocidad(self, x_mejor, x_actual, y_mejor, y_actual, x_mejor_enj, y_mejor_enj, K_iner, K_cogn, K_soc): # Definir la función velocidad\n",
        "    #     if self.vel_x is None or self.vel_y is None: # La primer velocidad es cero porque no se tiene una velocidad calculada previamente\n",
        "    #         self.vel_x = np.zeros(self.particulas) # Se genera un arreglo de ceros para establecer la velocidad inicial de todas las partículas de la coordenada x\n",
        "    #         self.vel_y = np.zeros(self.particulas) # Se genera un arreglo de ceros para establecer la velocidad inicial de todas las partículas de la coordenada y\n",
        "\n",
        "    #     r1 = np.random.uniform(0, 1, self.particulas) # Se genera el número cognitivo aleatorio entre 0 y 1\n",
        "    #     r2 = np.random.uniform(0, 1, self.particulas) # Se genera el número social aleatorio entre 0 y 1\n",
        "\n",
        "    #     cognitive_x = K_cogn * r1 * (x_mejor - x_actual) # Cálculo del componente cognitivo de la coordenada x de cada partícula\n",
        "    #     social_x = K_soc * r2 * (x_mejor_enj - x_actual) # Cálculo del componente social de la coordenada x de cada partícula\n",
        "    #     self.vel_x = K_iner * self.vel_x + cognitive_x + social_x # Cálculo de la velocidad actual de la coordenada x de cada partícula\n",
        "\n",
        "    #     cognitive_y = K_cogn * r1 * (y_mejor - y_actual) # Cálculo del componente cognitivo de la coordenada y de cada partícula\n",
        "    #     social_y = K_soc * r2 * (y_mejor_enj - y_actual) # Cálculo del componente social de la coordenada y de cada partícula\n",
        "    #     self.vel_y = K_iner * self.vel_y + cognitive_y + social_y # Cálculo de la velocidad actual de la coordenada y de cada partícula\n",
        "\n",
        "\n",
        "    #     # Se puede descomentar si se desea poner un límite a la velocidad\n",
        "    #     # Limitar velocidad\n",
        "    #     #vel_max = 1.0\n",
        "    #     #self.vel_x = np.clip(self.vel_x, -vel_max, vel_max)\n",
        "    #     #self.vel_y = np.clip(self.vel_y, -vel_max, vel_max)\n",
        "\n",
        "    #     return self.vel_x, self.vel_y # Retorna las velocidades de las coordenadas (x) y (y) respectivamente"
      ],
      "metadata": {
        "id": "snY6hSOuJMI5"
      },
      "execution_count": null,
      "outputs": []
    },
    {
      "cell_type": "markdown",
      "source": [
        "# Método correr algoritmo de optimización de enjambre de partículas (PSO)\n",
        "\n",
        "La siguiente función, junta las funciones descritas anteriormente para que se ejecute iterativamente el algoritmo. Es un módulo que permite tener un mejor manejo de las funciones del algoritmo PSO.\n",
        "\n",
        "Se ejecutan primeramente la clase y los métodos en el siguiente orden dentro de un ciclo que se domina por medio de un número de iteraciones que se pueden manipular, ya que este será el método de parada del algoritmo.\n",
        "\n",
        "- Particulas: Genera los valores aleatorior de cada cordenada (x,y)\n",
        "- Fitness: Calcula el fitnes actual de cada partícula\n",
        "- mejores_part: Selecciona las mejores coordenadas (las que tengan mejor fitness) de cada partícula\n",
        "- mejores_enjambre: Selecciona la mejor coordenada con mejor fitness de todo el enjambre de partículas.\n",
        "- velocidad: Actualiza las velocidades de cada coordenada (x,y) para cada partícula.\n",
        "\n",
        "Luego de esto se actualiza la posición de las partículas de acuerdo a la velocidad calculada y se guardan las trayectorias de cada partícula por si se desea visualizar como es el movimiento de estas. Por último, con ayuda del print se puede visualizar el resultado de cada iteración."
      ],
      "metadata": {
        "id": "5ikoH0oFOOO1"
      }
    },
    {
      "cell_type": "code",
      "source": [
        "# def correr_PSO(f, x0, xn, y0, yn, N_particulas, K_iner, K_cogn, K_soc, Iteraciones): # Define la función para ejecutar el algoritmo con todas las funciones descritas anteriormenete\n",
        "#     enjambre = PSO(N_particulas) # Se llama a la clase PSO\n",
        "#     x1, y1 = enjambre.Particulas(x0, xn, y0, yn) # Se llama el método que genera aleatoriamente los valores de las coordenadas (x) y (y)\n",
        "\n",
        "#     trayectoria_x = [] # Se genera una lista vacía de la trayectoria de la coordenada x\n",
        "#     trayectoria_y = [] # Se genera una lista vacía de la trayectoria de la coordenada x\n",
        "\n",
        "#     for i in range(Iteraciones): # Se inicia al ciclo respecto al número de iteraciones que se indique\n",
        "#         x_fit, y_fit, fit = enjambre.Fitness(f, x1, y1) # Se calculan el fitness actual de las partículas\n",
        "#         Best_x_enj, Best_y_enj, Best_fit_enj = enjambre.mejores_part(x_fit, y_fit, fit)  # Calcula el mejor fitness actual de las partículas junto con las coordenadas (x), (y) de las partículas\n",
        "#         max_x, max_y, max_f = enjambre.mejores_enjambre() # Calcula en mejor fitness de todo el enjambre junto con las coordenadas (x),(y) de la partícula\n",
        "#         vel_x, vel_y = enjambre.velocidad(Best_x_enj[0], x1, Best_y_enj[0], y1, max_x, max_y, K_iner, K_cogn, K_soc) # Calcula las velocidades actuales de cada coordenada de las partículas\n",
        "\n",
        "#         x1 = np.clip(x1 + vel_x, x0, xn) # Esta función limita los valores de x para que se cumpla la restricción del dominio\n",
        "#         y1 = np.clip(y1 + vel_y, y0, yn) # Esta función limita los valores de y para que se cumpla la restricción del dominio\n",
        "\n",
        "#         trayectoria_x.append(x1.copy()) # Crea una copia de los valores calculados de x (memoria) para poder saber sus trayectorias completas\n",
        "#         trayectoria_y.append(y1.copy()) # Crea una copia de los valores calculados de y (memoria) para poder saber sus trayectorias completas\n",
        "\n",
        "#         print(f\"Iteración {i+1}: Mejor X = {max_x:.3f}, Mejor Y = {max_y:.3f}, Fitness  = {max_f:.3f}\") # Imprimir en pantalla los resultados de cada iteración"
      ],
      "metadata": {
        "id": "Yn5wSNliOOXk"
      },
      "execution_count": null,
      "outputs": []
    },
    {
      "cell_type": "markdown",
      "source": [
        "# Parámetros para ejecutar el código\n",
        "\n",
        "La siguiente celda ejecuta el algoritmo de acuerdo a las indicaciones dadas:"
      ],
      "metadata": {
        "id": "rbf4tgIkV8Vz"
      }
    },
    {
      "cell_type": "code",
      "source": [
        "# # Parámetros del problema\n",
        "# x, y = sp.symbols('x y')\n",
        "# from sympy.plotting import plot3d\n",
        "\n",
        "# f = sp.sin(x) * sp.cos(y) + 0.1 * x + 0.1 * y # Define la función a optimizar\n",
        "# x0, xn = -5, 5 # Dominio del eje x\n",
        "# y0, yn = -5, 5 # Dominio del eje y\n",
        "# N_particulas = 10 # Número de partículas\n",
        "# K_iner = 0.2 # Constante de inercia\n",
        "# K_cogn = 2 # Constate cognitiva\n",
        "# K_soc = 2 # Constante social\n",
        "# Iteraciones = 100 # Número de iteraciones\n",
        "\n",
        "# # Se ejecuta el código gracias al módulo correr_PSO implementado\n",
        "# correr_PSO(f, x0, xn, y0, yn, N_particulas, K_iner, K_cogn, K_soc, Iteraciones)"
      ],
      "metadata": {
        "id": "nzIRj8iYV8fX"
      },
      "execution_count": null,
      "outputs": []
    },
    {
      "cell_type": "markdown",
      "source": [
        "# Por favor correr el código completo que se encuentra a continuación para visualizar los resultados del algoritmo PSO implementado anteriormente."
      ],
      "metadata": {
        "id": "QuA-dGNqWfQG"
      }
    },
    {
      "cell_type": "code",
      "source": [
        "import pandas as pd # Librería para analisis de datos\n",
        "import numpy as np # Libreria para operaciones entre matrices\n",
        "import random # Libreria para ejecutar aleatoriedad\n",
        "import sympy as sp # Librería para realizar operaciones con funciones simbólicas\n",
        "\n",
        "\n",
        "class PSO: # Se define la clase\n",
        "\n",
        "    def __init__(self, particulas): # Inicio de la función constructor\n",
        "        self.particulas = particulas # Variable que posee el número de partículas requeridas\n",
        "        self.Mejor_Fit = None # Variable que guardará el mejor fitness del enjambre\n",
        "        self.Mejor_Pos_x = None # Variable que guardará la mejor posición en el eje x local\n",
        "        self.Mejor_Pos_y = None # Variable que guardará la mejor posición en el eje y local\n",
        "        self.mejor_x_enjanbre = None # Variable que guardará la mejor posición de x en todo el enjambre (global)\n",
        "        self.mejor_y_enjambre = None # Variable que guardará la mejor posición de y en todo el enjambre (global)\n",
        "        self.mejor_f_enjambre = None # Variable que guardará el mejor fitness de todo el enjambre (global)\n",
        "        self.vel_x = None # Variable que guardará la velocidad en el eje x cada iteración\n",
        "        self.vel_y = None # Variable que guardará la velocidad en el eje y cada iteración\n",
        "\n",
        "        self.fit_guardado = float('inf') # Esta línea crea una variable para guardar el mejor fit, inf significa que el valor que se encuentra será mucho más grande que cualquier valor\n",
        "                                        # guardado por primera vez y guardará la primer iteración sin problemas. Esto es solo para que se guarde el primer valor del fitness como el mejor, ya\n",
        "                                        # que no hay como compararlo.\n",
        "\n",
        "    def Particulas(self, x0, xn, y0, yn): # Definición de la función\n",
        "        x1 = np.random.uniform(x0, xn, self.particulas) # Genera puntos en el eje x aleatoriamente\n",
        "        y1 = np.random.uniform(y0, yn, self.particulas) # Genera puntos en el eje y aleatoriamente\n",
        "        return x1, y1  # retorna las parejas de los puntos generados\n",
        "\n",
        "    def Fitness(self, f, X, Y): # Definición de la función fitness\n",
        "        x, y = sp.symbols('x y') # Se establecen los símbolos con los que se representará la función de 2D\n",
        "        fitness = sp.lambdify((x, y), f, 'numpy') # Función que convierte la función simbólica para poder aplicarle cálculos con arreglos, matrices.\n",
        "        return X, Y, fitness(X, Y)  # Retorna las coordenadas (x), (y) y con estas se calcula la función fitness\n",
        "\n",
        "    def mejores_part(self, x, y, fitness): # Definición de la función mejores partículas\n",
        "        if self.Mejor_Fit is None: # Si la variable está vacía:\n",
        "            self.Mejor_Pos_x = np.array([x.copy()]) # Llena el primer dato de la mejor posición en x con las primeras coordenadas generadas aleatoriamente\n",
        "            self.Mejor_Pos_y = np.array([y.copy()]) # Llena el primer dato de la mejor posición en y con las primeras coordenadas generadas aleatoriamente\n",
        "            self.Mejor_Fit = np.array([fitness.copy()]) # Llena el primer dato del mejor fitness con los primeros datos generados en la función (Fitness)\n",
        "\n",
        "        for i in range(self.particulas): # Ciclo que recorre todas las posiciones de las partículas\n",
        "            if fitness[i] < self.Mejor_Fit[0][i]: # Define si el fitness actual es mejor que el mejor fitness de cada partícula\n",
        "                self.Mejor_Pos_x[0][i] = x[i] # Se actualiza el mejor valor de la coordenada x\n",
        "                self.Mejor_Pos_y[0][i] = y[i] # Se actualiza el mejor valor de la coordenada y\n",
        "                self.Mejor_Fit[0][i] = fitness[i] # Se actualiza el mejor valor del fitness para cada partícula\n",
        "        return self.Mejor_Pos_x, self.Mejor_Pos_y, self.Mejor_Fit # retorna los mejores valores para las coordenadas (x,y) y fitness\n",
        "\n",
        "    def mejores_enjambre(self): # Definición de la función mejores valores de todo el enjambre\n",
        "        idx = np.argmin(self.Mejor_Fit[0]) # Función que devuelve el índice del valor mínimo del Fitness de todo el enjambre de partículas\n",
        "        x_enjambre = self.Mejor_Pos_x[0][idx] # Selecciona la coordenada x del mejor fitness del enjambre\n",
        "        y_enjambre = self.Mejor_Pos_y[0][idx] # Selecciona la coordenada y del mejor fitness del enjambre\n",
        "        fit_enjambre = self.Mejor_Fit[0][idx] # Selecciona el valor del mejor fitness del enjambre\n",
        "\n",
        "        self.mejor_x_enjanbre = x_enjambre # Actualiza el valor de la coordenada x (respecto al mejor fitness del enjambre)\n",
        "        self.mejor_y_enjambre = y_enjambre # Actualiza el valor de la coordenada y (respecto al mejor fitness del enjambre)\n",
        "        self.mejor_f_enjambre = fit_enjambre # Actualiza el mejor valor de fitness del enjambre\n",
        "        self.fit_guardado = fit_enjambre # Guarda el mejor fitness y lo conserva hasta que se genere una partícula con fitness mejor en todo el enjambre\n",
        "\n",
        "        return self.mejor_x_enjanbre, self.mejor_y_enjambre, self.fit_guardado # Retorna las mejores coordenadas y el mejor fit guardado del enjambre\n",
        "\n",
        "    def velocidad(self, x_mejor, x_actual, y_mejor, y_actual, x_mejor_enj, y_mejor_enj, K_iner, K_cogn, K_soc): # Definir la función velocidad\n",
        "        if self.vel_x is None or self.vel_y is None: # La primer velocidad es cero porque no se tiene una velocidad calculada previamente\n",
        "            self.vel_x = np.zeros(self.particulas) # Se genera un arreglo de ceros para establecer la velocidad inicial de todas las partículas de la coordenada x\n",
        "            self.vel_y = np.zeros(self.particulas) # Se genera un arreglo de ceros para establecer la velocidad inicial de todas las partículas de la coordenada y\n",
        "\n",
        "        r1 = np.random.uniform(0, 1, self.particulas) # Se genera el número cognitivo aleatorio entre 0 y 1\n",
        "        r2 = np.random.uniform(0, 1, self.particulas) # Se genera el número social aleatorio entre 0 y 1\n",
        "\n",
        "        cognitive_x = K_cogn * r1 * (x_mejor - x_actual) # Cálculo del componente cognitivo de la coordenada x de cada partícula\n",
        "        social_x = K_soc * r2 * (x_mejor_enj - x_actual) # Cálculo del componente social de la coordenada x de cada partícula\n",
        "        self.vel_x = K_iner * self.vel_x + cognitive_x + social_x # Cálculo de la velocidad actual de la coordenada x de cada partícula\n",
        "\n",
        "        cognitive_y = K_cogn * r1 * (y_mejor - y_actual) # Cálculo del componente cognitivo de la coordenada y de cada partícula\n",
        "        social_y = K_soc * r2 * (y_mejor_enj - y_actual) # Cálculo del componente social de la coordenada y de cada partícula\n",
        "        self.vel_y = K_iner * self.vel_y + cognitive_y + social_y # Cálculo de la velocidad actual de la coordenada y de cada partícula\n",
        "\n",
        "\n",
        "        # Se puede descomentar si se desea poner un límite a la velocidad\n",
        "        # Limitar velocidad\n",
        "        #vel_max = 1.0\n",
        "        #self.vel_x = np.clip(self.vel_x, -vel_max, vel_max)\n",
        "        #self.vel_y = np.clip(self.vel_y, -vel_max, vel_max)\n",
        "\n",
        "        return self.vel_x, self.vel_y # Retorna las velocidades de las coordenadas (x) y (y) respectivamente\n",
        "\n",
        "# ---------------------------------------------------------------------------------------- #\n",
        "\n",
        "def correr_PSO(f, x0, xn, y0, yn, N_particulas, K_iner, K_cogn, K_soc, Iteraciones): # Define la función para ejecutar el algoritmo con todas las funciones descritas anteriormenete\n",
        "    enjambre = PSO(N_particulas) # Se llama a la clase PSO\n",
        "    x1, y1 = enjambre.Particulas(x0, xn, y0, yn) # Se llama el método que genera aleatoriamente los valores de las coordenadas (x) y (y)\n",
        "\n",
        "    trayectoria_x = [] # Se genera una lista vacía de la trayectoria de la coordenada x\n",
        "    trayectoria_y = [] # Se genera una lista vacía de la trayectoria de la coordenada x\n",
        "\n",
        "    for i in range(Iteraciones): # Se inicia al ciclo respecto al número de iteraciones que se indique\n",
        "        x_fit, y_fit, fit = enjambre.Fitness(f, x1, y1) # Se calculan el fitness actual de las partículas\n",
        "        Best_x_enj, Best_y_enj, Best_fit_enj = enjambre.mejores_part(x_fit, y_fit, fit)  # Calcula el mejor fitness actual de las partículas junto con las coordenadas (x), (y) de las partículas\n",
        "        max_x, max_y, max_f = enjambre.mejores_enjambre() # Calcula en mejor fitness de todo el enjambre junto con las coordenadas (x),(y) de la partícula\n",
        "        vel_x, vel_y = enjambre.velocidad(Best_x_enj[0], x1, Best_y_enj[0], y1, max_x, max_y, K_iner, K_cogn, K_soc) # Calcula las velocidades actuales de cada coordenada de las partículas\n",
        "\n",
        "        x1 = np.clip(x1 + vel_x, x0, xn) # Esta función limita los valores de x para que se cumpla la restricción del dominio\n",
        "        y1 = np.clip(y1 + vel_y, y0, yn) # Esta función limita los valores de y para que se cumpla la restricción del dominio\n",
        "\n",
        "        trayectoria_x.append(x1.copy()) # Crea una copia de los valores calculados de x (memoria) para poder saber sus trayectorias completas\n",
        "        trayectoria_y.append(y1.copy()) # Crea una copia de los valores calculados de y (memoria) para poder saber sus trayectorias completas\n",
        "\n",
        "        print(f\"Iteración {i+1}: Mejor X = {max_x:.3f}, Mejor Y = {max_y:.3f}, Fitness  = {max_f:.3f}\") # Imprimir en pantalla los resultados de cada iteración\n",
        "\n",
        "# ---------------------------------------------------------------------------------------- #\n",
        "\n",
        "\n",
        "# ---------------------------------------------------------------------------------------- #\n",
        "\n",
        "# Parámetros del problema\n",
        "x, y = sp.symbols('x y')\n",
        "from sympy.plotting import plot3d\n",
        "\n",
        "f = sp.sin(x) * sp.cos(y) + 0.1 * x + 0.1 * y\n",
        "x0, xn = -5, 5\n",
        "y0, yn = -5, 5\n",
        "N_particulas = 10\n",
        "K_iner = 0.2\n",
        "K_cogn = 2\n",
        "K_soc = 2\n",
        "Iteraciones = 100\n",
        "\n",
        "# Ejecutar PSO\n",
        "correr_PSO(f, x0, xn, y0, yn, N_particulas, K_iner, K_cogn, K_soc, Iteraciones)\n"
      ],
      "metadata": {
        "id": "eSas5uJrAJTm"
      },
      "execution_count": null,
      "outputs": []
    }
  ]
}