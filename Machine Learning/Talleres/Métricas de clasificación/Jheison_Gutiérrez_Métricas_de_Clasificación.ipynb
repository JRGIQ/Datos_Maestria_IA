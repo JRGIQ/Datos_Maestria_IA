{
  "nbformat": 4,
  "nbformat_minor": 0,
  "metadata": {
    "colab": {
      "provenance": []
    },
    "kernelspec": {
      "name": "python3",
      "display_name": "Python 3"
    },
    "language_info": {
      "name": "python"
    }
  },
  "cells": [
    {
      "cell_type": "markdown",
      "source": [
        "# LABORATORIO: MÉTRICAS DE CLASIFICACIÓN"
      ],
      "metadata": {
        "id": "GyEZtFn2SPHK"
      }
    },
    {
      "cell_type": "markdown",
      "source": [
        "NOMBRE: Jheison René Gutiérrez Gómez\n",
        "\n",
        "CORREO: jheison.gutierrez01@usa.edu.co"
      ],
      "metadata": {
        "id": "1mb0QkXcSJB7"
      }
    },
    {
      "cell_type": "markdown",
      "source": [
        "2. La siguiente matriz de confusión representa los resultados obtenidos en un sistema de diagnóstico\n",
        "automático para una enfermedad mortal. Calcule la sensibilidad y la especificidad.\n",
        "\n",
        "\n",
        "\n",
        "$Recall=\\frac{TP}{TP+FN}=\\frac{120}{120+22}=84.5$\n",
        "\n",
        "$Especificidad=\\frac{TN}{TN+FP}=\\frac{795}{795+63}=92.6$"
      ],
      "metadata": {
        "id": "tHSGbGCnwmOT"
      }
    },
    {
      "cell_type": "markdown",
      "source": [
        "![image.png](data:image/png;base64,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)"
      ],
      "metadata": {
        "id": "vNwveny_wt91"
      }
    },
    {
      "cell_type": "markdown",
      "source": [
        "- ¿Cuál métrica (o métricas) de desempeño considera más adecuada para evaluar un modelo en este\n",
        "contexto?\n",
        "\n",
        "En este contexto, la sensibilidad sería la métrica que escogería para evaluar el modelo, ya que esta métrica relaciona los falsos negativos y en dado caso de que los falsos negativos aumenten, la sensibilidad disminuye.\n",
        "\n",
        "\n"
      ],
      "metadata": {
        "id": "ShvAlYKswyHe"
      }
    },
    {
      "cell_type": "markdown",
      "source": [
        "- Considerando las métricas que seleccionó en el punto anterior, ¿podríamos decir que este es un\n",
        "buen modelo?"
      ],
      "metadata": {
        "id": "TPsxresFwyMM"
      }
    },
    {
      "cell_type": "markdown",
      "source": [
        "No, ya que la sensibilidad es de un 84.5% y es un buen valor numérico para una predicción pero no hay margen de error para una enfermedad mortal."
      ],
      "metadata": {
        "id": "8UgvjhQQ0mi5"
      }
    },
    {
      "cell_type": "markdown",
      "source": [
        "3. Para cada uno de los siguientes modelos determine qué tipo de error es más grave: falsos positivos o falsos\n",
        "negativos. A partir de esto, seleccione a cuál métrica debe tener más importancia durante el proceso de\n",
        "evaluación."
      ],
      "metadata": {
        "id": "58HpbofU0xMQ"
      }
    },
    {
      "cell_type": "markdown",
      "source": [
        "- Un sistema de visión por computador de un vehículo autónomo encargado de\n",
        "detectar si una imagen contiene a un peatón\n",
        "\n",
        "Un falso negativo, porque puede seguir en marcha habiendo una persona en medio. En este caso la mejor métrica sería (sensibilidad).\n",
        "\n",
        "- Un sistema de reconocimiento facial utilizado como mecanismo de seguridad para\n",
        "dar acceso a una vivienda.\n",
        "\n",
        "En este contexto, un falso positivo porque una persona desconocida podría ingresar a la vivienda. La métrica con mayor importancia es la especificidad porque relaciona el número de verdaderos negativos con los falsos positivos. En dado caso que los casos positivos aumenten, la especificidad del modelo disminuye, esto indica que el modelo no tiene un buen rendimiento detectando verdaderos negativos y cualquier persona podría ingresar a la vivienda.\n",
        "\n",
        "- Un sistema que determina automáticamente si una persona recibirá la pena muerte.\n",
        "\n",
        "En este contexto, un falso positivo, ya que una persona inocente podría recibir pena de muerte. En este caso la mejor métrica sería la precisión. Esta métrica relaciona los verdaderos positivos con los falsos positivos, entre más falsos positivos tenga el modelo, la precisión disminuye y por ende sería una métrica que me indicaria un desempeño en este ejemplo.\n",
        "\n",
        "- Un modelo que analiza si una transacción bancaria es fraudulenta.\n",
        "\n",
        "En este ejemplo sería un falso negativo, ya que podría haber un fraude y el modelo clasificarlo como no fraudulento. La métrica que mejor evaluaría este modelo sería la sensibilidad, ya que entre mayores falsos positivos, esta métrica disminuye.\n",
        "\n",
        "- Un sistema de vigilancia automático que detecta y derriba un objetivo militar (posible\n",
        "misil).\n",
        "\n",
        "En este contexto ambos errores serían graves, ya que si es falso positivo, no detecta derriba y falso negativo porque detecta y no derriba. Las métricas serían la sensibilidad y la especificidad.\n",
        "\n",
        "- Un sistema de vigilancia que detecta la presencia de intrusos en una zona restringida\n",
        "por peligros biológicos.\n",
        "\n",
        "En este caso el falso negativo sería más importante, ya que siendo la zona peligrosa y no detectar una persona es riesgoso. La métrica que mejor evaluaría esto es la sensibilidad.\n",
        "\n",
        "- Un sistema que permite detectar si un atleta está utilizado algún tipo de droga para\n",
        "mejorar su desempeño.\n",
        "\n",
        "En este caso ambos errores tendrian consecuencias. En el caso de falso positivo podría detectar droga sin que el atleta la use, esto puede tener implicaciones graves en la repuración del atleta. Por el contrario, el falso negativo podría no detectar droga en el cuerpo del atleta y que este si utilice drogas, en este caso no habría sanciones disciplinarias para el atleta y estaría teniendo una ventaja respecto a los demás.\n",
        "\n",
        "- Un sistema que clasifica las opiniones de los productos de una empresa en redes\n",
        "sociales.\n",
        "\n",
        "La pregunta es muy abierta y no se sabría el tipo o la clase de opiniones que se quieren clasificar."
      ],
      "metadata": {
        "id": "dBXagV1M08F2"
      }
    },
    {
      "cell_type": "markdown",
      "source": [
        "4. En los siguientes ejemplos se presentan los desempeños de algunos modelos de clasificación utilizando\n",
        "accuracy como métrica. Evalúe si estos valores, a su consideración, indican que el modelo está haciendo un\n",
        "buen trabajo. Evalúe los costos de los errores basado en el contexto"
      ],
      "metadata": {
        "id": "HsSS9p27GHH3"
      }
    },
    {
      "cell_type": "markdown",
      "source": [
        "- Un sistema de detección de fraude en transacciones financieras utilizado por un\n",
        "banco tiene un accuracy del 98%.\n",
        "\n",
        "En este caso, el modelo presenta un desempeño aceptable, evidenciado por una precisión (accuracy) del 98 %, lo que indica que clasifica correctamente tanto instancias positivas como negativas, con un número reducido de errores. La métrica de precisión se define como la proporción de verdaderos positivos y verdaderos negativos respecto al total de predicciones realizadas, lo que sugiere una adecuada capacidad discriminativa del modelo. Por ejemplo, si se analizan 100 transacciones, el modelo clasifica correctamente 98, mientras que las dos restantes corresponden a errores de clasificación, ya sea como falsos positivos o falsos negativos. No obstante, en contextos críticos como la detección de fraude, incluso un 2 % de error puede tener consecuencias significativas. En particular, la presencia de un falso negativo —es decir, una transacción fraudulenta no detectada— podría implicar pérdidas económicas sustanciales, lo que resalta la necesidad de evaluar métricas adicionales como la sensibilidad (recall) y la tasa de falsos negativos.\n",
        "\n",
        "- Un sistema de identificación de objetos extraños en imágenes astronómicas como\n",
        "objetos celestes inusuales o fenómenos cósmicos extremadamente raros tiene un\n",
        "accuracy del 5%.\n",
        "\n",
        "En cuanto al valor de la métrica, un 5 % de precisión representa un desempeño significativamente bajo. Este resultado sugiere que el modelo está clasificando incorrectamente una proporción considerable de instancias, tanto en forma de falsos positivos como de falsos negativos. En este contexto, un falso positivo —es decir, identificar la presencia de un objeto cuando en realidad no existe— puede no tener consecuencias graves. Sin embargo, un falso negativo —no detectar un objeto que sí está presente— puede implicar la pérdida de una oportunidad valiosa para identificar un fenómeno inusual, extraordinario o de alto interés. Por tanto, en aplicaciones donde la detección de eventos raros o significativos es crítica, la tasa de falsos negativos adquiere un peso considerable en la evaluación del modelo, más allá de la métrica global de precisión.\n",
        "\n",
        "- Un sistema de análisis de sentimientos en redes sociales que evalúa un grupo de\n",
        "personas con antecedentes de depresión y determina quienes pueden estar en riesgo\n",
        "de suicidio con un accuracy del 95%\n",
        "\n",
        "Aunque el modelo exhibe una precisión (accuracy) elevada, este indicador por sí solo puede resultar insuficiente en contextos sensibles como el diagnóstico de conductas suicidas. Un 5 % de error en las predicciones implica que, de cada 100 casos evaluados, cinco podrían ser clasificados incorrectamente. Si dentro de ese margen se encuentran falsos negativos —es decir, individuos con riesgo suicida que no son identificados por el modelo— las consecuencias pueden ser letales. En estos escenarios, la omisión de un diagnóstico oportuno puede derivar en la pérdida de vidas humanas, lo que subraya la necesidad de priorizar métricas como la sensibilidad (recall) y la tasa de falsos negativos, por encima del accuracy global.\n",
        "\n",
        "- Un sistema de reconocimiento de voz para asistentes virtuales tiene un accuracy del\n",
        "93%.\n",
        "\n",
        "En este escenario, una precisión (accuracy) del 93 % representa un rendimiento aceptable del modelo, dado que la proporción de falsos positivos y falsos negativos es relativamente baja y no conlleva consecuencias críticas. En el caso de los falsos positivos —cuando el asistente interpreta ruido como una señal válida— el impacto es mínimo, ya que no se genera una acción perjudicial. Por otro lado, ante un falso negativo —cuando el asistente no reconoce una voz humana real— el sistema permite reintentos, lo que mitiga el efecto del error. Esta tolerancia al fallo sugiere que, en aplicaciones donde la interacción puede repetirse sin riesgo, el accuracy puede ser una métrica suficiente para evaluar el desempeño del modelo"
      ],
      "metadata": {
        "id": "Q8YO8HG1GKFG"
      }
    },
    {
      "cell_type": "markdown",
      "source": [
        "5. En su grupo de trabajo, identifique cuáles de sus compañeros están realizando proyectos de investigación\n",
        "asociados a problemas de clasificación. Para cada proyecto discutan cuál sería el tipo de error más grave:\n",
        "falsos positivos o falsos negativos. Determinen cuáles son las métricas que deben tener más importancia en\n",
        "la evaluación del modelo. Si por alguna razón ninguno está realizando un proyecto relacionado a\n",
        "clasificación, propongan situaciones hipotéticas relacionadas con sus áreas de trabajo."
      ],
      "metadata": {
        "id": "j7y680IsNfKy"
      }
    },
    {
      "cell_type": "markdown",
      "source": [
        "En el caso personal, mi proyecto de investigación no se orienta hacia tareas de clasificación. Sin embargo, un(a) compañer@ de clase desarrolla un modelo cuyo objetivo es clasificar pacientes en un centro médico, con el fin de asignarles una prioridad en el servicio de urgencias según su nivel de gravedad. Esta clasificación se realiza en función de variables como el estado clínico, edad, sexo, antecedentes médicos, entre otras. En este contexto, el tipo de error más crítico corresponde al falso negativo, es decir, cuando el modelo no identifica correctamente a un paciente con alta gravedad y lo clasifica con baja prioridad. Este tipo de error puede tener consecuencias graves, ya que implica retrasos en la atención médica de casos urgentes, lo que podría comprometer la vida del paciente. Por tanto, en modelos de clasificación médica, es fundamental minimizar la tasa de falsos negativos y complementar el análisis con métricas como la sensibilidad (recall) y la especificidad, más allá del accuracy global.\n",
        "\n",
        "- TP: Urgente -------> Paciente de alto riesgo\n",
        "- TN: No urgente ----> Bajo riesgo\n",
        "- FP: Urgente -------> Bajo riesgo\n",
        "- FN: No urgente ----> Alto riesgo (muerte por negligencia).\n",
        "\n",
        "Desde una perspectiva personal, considero que la métrica más relevante en este contexto es la sensibilidad (recall), ya que está directamente relacionada con la capacidad del modelo para identificar correctamente las instancias positivas, minimizando los falsos negativos. Una sensibilidad elevada indica que el modelo logra detectar la mayoría de los casos verdaderamente positivos, lo que implica una baja proporción de falsos negativos. Por el contrario, una sensibilidad baja sugiere que el modelo omite una cantidad significativa de casos positivos, lo cual puede ser crítico en aplicaciones donde la omisión de un evento relevante —como una condición médica, una señal de alerta o una anomalía— tiene consecuencias graves. Por tanto, en escenarios donde el costo de un falso negativo es alto, la sensibilidad debe ser priorizada frente a otras métricas como el accuracy o la precisión."
      ],
      "metadata": {
        "id": "5hTq0_TUNoA2"
      }
    }
  ]
}